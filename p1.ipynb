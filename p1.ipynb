{
 "cells": [
  {
   "cell_type": "markdown",
   "id": "4be5877f",
   "metadata": {},
   "source": [
    "# Project: Megaline's newer plans Smart or Ultra"
   ]
  },
  {
   "cell_type": "markdown",
   "id": "79e9e0d8",
   "metadata": {},
   "source": [
    "## Table of Contents\n",
    "\n",
    "* [Project description](#Project_description)\n",
    "* [Description of the data](#data)\n",
    "* [Open the data file](#open)\n",
    "* [Split the source data ](#split)\n",
    "* [Check the quality of the model using the test set](#test)\n",
    "* [Conclusion](#conclusion)"
   ]
  },
  {
   "cell_type": "markdown",
   "id": "163effef",
   "metadata": {},
   "source": [
    "## Project description <a class=\"anchor\" id=\"Project_description\"></a>"
   ]
  },
  {
   "cell_type": "markdown",
   "id": "b90668ce",
   "metadata": {},
   "source": [
    "Mobile carrier Megaline has found out that many of their subscribers use legacy plans. They want to develop a model that would analyze subscribers' behavior and recommend one of Megaline's newer plans: Smart or Ultra.\n",
    "\n",
    "You have access to behavior data about subscribers who have already switched to the new plans (from the project for the Statistical Data Analysis course). For this classification task, you need to develop a model that will pick the right plan. Since you’ve already performed the data preprocessing step, you can move straight to creating the model.\n",
    "Develop a model with the highest possible accuracy. In this project, the threshold for accuracy is 0.75. Check the accuracy using the test dataset."
   ]
  },
  {
   "cell_type": "markdown",
   "id": "783bba6d",
   "metadata": {},
   "source": [
    "## Description of the data  <a class=\"anchor\" id=\"data\"></a>"
   ]
  },
  {
   "cell_type": "markdown",
   "id": "9f2b4230",
   "metadata": {},
   "source": [
    "Every observation in the dataset contains monthly behavior information about one user. The information given is as follows:\n",
    "* сalls — number of calls,\n",
    "* minutes — total call duration in minutes,\n",
    "* messages — number of text messages,\n",
    "* mb_used — Internet traffic used in MB,\n",
    "* is_ultra — plan for the current month (Ultra - 1, Smart - 0)."
   ]
  },
  {
   "cell_type": "code",
   "execution_count": 1,
   "id": "d8df4c44",
   "metadata": {},
   "outputs": [],
   "source": [
    "#import libraries\n",
    "import pandas as pd\n",
    "import numpy as np\n",
    "import matplotlib.pyplot as plt\n",
    "import math\n",
    "from scipy import stats as st\n",
    "import seaborn as sns\n",
    "import plotly.express as px\n",
    "import plotly.graph_objects as go\n",
    "from sklearn.tree import DecisionTreeClassifier\n",
    "from sklearn.metrics import accuracy_score\n",
    "from joblib import dump\n",
    "from sklearn.model_selection import train_test_split\n",
    "from sklearn.ensemble import RandomForestClassifier \n",
    "from sklearn.metrics import mean_squared_error\n",
    "from sklearn.linear_model import LogisticRegression"
   ]
  },
  {
   "cell_type": "markdown",
   "id": "d91efaa9",
   "metadata": {},
   "source": [
    "## Open and look through the data file <a class=\"anchor\" id=\"open\"></a>"
   ]
  },
  {
   "cell_type": "code",
   "execution_count": 2,
   "id": "d5d5213d",
   "metadata": {},
   "outputs": [],
   "source": [
    " try:\n",
    "    data = pd.read_csv('/datasets/users_behavior.csv')    \n",
    "except:\n",
    "    print(\"Something went wrong when opening the file\")"
   ]
  },
  {
   "cell_type": "code",
   "execution_count": 3,
   "id": "5d7ffdb2",
   "metadata": {},
   "outputs": [
    {
     "name": "stdout",
     "output_type": "stream",
     "text": [
      "<class 'pandas.core.frame.DataFrame'>\n",
      "RangeIndex: 3214 entries, 0 to 3213\n",
      "Data columns (total 5 columns):\n",
      "calls       3214 non-null float64\n",
      "minutes     3214 non-null float64\n",
      "messages    3214 non-null float64\n",
      "mb_used     3214 non-null float64\n",
      "is_ultra    3214 non-null int64\n",
      "dtypes: float64(4), int64(1)\n",
      "memory usage: 125.7 KB\n"
     ]
    }
   ],
   "source": [
    "data.info()"
   ]
  },
  {
   "cell_type": "code",
   "execution_count": 4,
   "id": "50e2c52b",
   "metadata": {},
   "outputs": [
    {
     "data": {
      "text/html": [
       "<div>\n",
       "<style scoped>\n",
       "    .dataframe tbody tr th:only-of-type {\n",
       "        vertical-align: middle;\n",
       "    }\n",
       "\n",
       "    .dataframe tbody tr th {\n",
       "        vertical-align: top;\n",
       "    }\n",
       "\n",
       "    .dataframe thead th {\n",
       "        text-align: right;\n",
       "    }\n",
       "</style>\n",
       "<table border=\"1\" class=\"dataframe\">\n",
       "  <thead>\n",
       "    <tr style=\"text-align: right;\">\n",
       "      <th></th>\n",
       "      <th>calls</th>\n",
       "      <th>minutes</th>\n",
       "      <th>messages</th>\n",
       "      <th>mb_used</th>\n",
       "      <th>is_ultra</th>\n",
       "    </tr>\n",
       "  </thead>\n",
       "  <tbody>\n",
       "    <tr>\n",
       "      <th>0</th>\n",
       "      <td>40.0</td>\n",
       "      <td>311.90</td>\n",
       "      <td>83.0</td>\n",
       "      <td>19915.42</td>\n",
       "      <td>0</td>\n",
       "    </tr>\n",
       "    <tr>\n",
       "      <th>1</th>\n",
       "      <td>85.0</td>\n",
       "      <td>516.75</td>\n",
       "      <td>56.0</td>\n",
       "      <td>22696.96</td>\n",
       "      <td>0</td>\n",
       "    </tr>\n",
       "    <tr>\n",
       "      <th>2</th>\n",
       "      <td>77.0</td>\n",
       "      <td>467.66</td>\n",
       "      <td>86.0</td>\n",
       "      <td>21060.45</td>\n",
       "      <td>0</td>\n",
       "    </tr>\n",
       "    <tr>\n",
       "      <th>3</th>\n",
       "      <td>106.0</td>\n",
       "      <td>745.53</td>\n",
       "      <td>81.0</td>\n",
       "      <td>8437.39</td>\n",
       "      <td>1</td>\n",
       "    </tr>\n",
       "    <tr>\n",
       "      <th>4</th>\n",
       "      <td>66.0</td>\n",
       "      <td>418.74</td>\n",
       "      <td>1.0</td>\n",
       "      <td>14502.75</td>\n",
       "      <td>0</td>\n",
       "    </tr>\n",
       "  </tbody>\n",
       "</table>\n",
       "</div>"
      ],
      "text/plain": [
       "   calls  minutes  messages   mb_used  is_ultra\n",
       "0   40.0   311.90      83.0  19915.42         0\n",
       "1   85.0   516.75      56.0  22696.96         0\n",
       "2   77.0   467.66      86.0  21060.45         0\n",
       "3  106.0   745.53      81.0   8437.39         1\n",
       "4   66.0   418.74       1.0  14502.75         0"
      ]
     },
     "execution_count": 4,
     "metadata": {},
     "output_type": "execute_result"
    }
   ],
   "source": [
    "data.head(5)"
   ]
  },
  {
   "cell_type": "code",
   "execution_count": 4,
   "id": "91cea48f",
   "metadata": {},
   "outputs": [
    {
     "data": {
      "text/html": [
       "<div>\n",
       "<style scoped>\n",
       "    .dataframe tbody tr th:only-of-type {\n",
       "        vertical-align: middle;\n",
       "    }\n",
       "\n",
       "    .dataframe tbody tr th {\n",
       "        vertical-align: top;\n",
       "    }\n",
       "\n",
       "    .dataframe thead th {\n",
       "        text-align: right;\n",
       "    }\n",
       "</style>\n",
       "<table border=\"1\" class=\"dataframe\">\n",
       "  <thead>\n",
       "    <tr style=\"text-align: right;\">\n",
       "      <th></th>\n",
       "      <th>missing_values</th>\n",
       "      <th>% of total</th>\n",
       "    </tr>\n",
       "  </thead>\n",
       "  <tbody>\n",
       "    <tr>\n",
       "      <td>calls</td>\n",
       "      <td>0</td>\n",
       "      <td>0.0</td>\n",
       "    </tr>\n",
       "    <tr>\n",
       "      <td>minutes</td>\n",
       "      <td>0</td>\n",
       "      <td>0.0</td>\n",
       "    </tr>\n",
       "    <tr>\n",
       "      <td>messages</td>\n",
       "      <td>0</td>\n",
       "      <td>0.0</td>\n",
       "    </tr>\n",
       "    <tr>\n",
       "      <td>mb_used</td>\n",
       "      <td>0</td>\n",
       "      <td>0.0</td>\n",
       "    </tr>\n",
       "    <tr>\n",
       "      <td>is_ultra</td>\n",
       "      <td>0</td>\n",
       "      <td>0.0</td>\n",
       "    </tr>\n",
       "  </tbody>\n",
       "</table>\n",
       "</div>"
      ],
      "text/plain": [
       "          missing_values  % of total\n",
       "calls                  0         0.0\n",
       "minutes                0         0.0\n",
       "messages               0         0.0\n",
       "mb_used                0         0.0\n",
       "is_ultra               0         0.0"
      ]
     },
     "execution_count": 4,
     "metadata": {},
     "output_type": "execute_result"
    }
   ],
   "source": [
    "report = data.isna().sum().to_frame()\n",
    "report = report.rename(columns = {0: 'missing_values'})\n",
    "report['% of total'] = (report['missing_values'] / data.shape[0]).round(2)\n",
    "report.sort_values(by = 'missing_values', ascending = False)"
   ]
  },
  {
   "cell_type": "code",
   "execution_count": 5,
   "id": "23ddeb20",
   "metadata": {},
   "outputs": [
    {
     "name": "stdout",
     "output_type": "stream",
     "text": [
      "duplicates number: 0\n"
     ]
    }
   ],
   "source": [
    "print(\"duplicates number: {}\".format(data.duplicated().sum()))"
   ]
  },
  {
   "cell_type": "markdown",
   "id": "7d2b33e9",
   "metadata": {},
   "source": [
    "<div style=\"border:solid black 2px; padding: 20px\"> <b>Note:</b><br>\n",
    "No duplicates or missing data were found.  The data set is ready for training a model. \n"
   ]
  },
  {
   "cell_type": "markdown",
   "id": "fc5a3ee5",
   "metadata": {},
   "source": [
    "### Split the source data into a training set, a validation set, and a test set. <a class=\"anchor\" id=\"split\"></a>\n"
   ]
  },
  {
   "cell_type": "markdown",
   "id": "f0d923f6",
   "metadata": {},
   "source": [
    "<div style=\"border:solid black 2px; padding: 20px\"> <b>Note:</b><br>\n",
    "\n",
    "test set doesn't exist. In that case, the source data has to be split into three parts: training, validation, and test. The sizes of validation set and test set are usually equal. It gives us source data split in a 3:1:1 ratio."
   ]
  },
  {
   "cell_type": "code",
   "execution_count": 6,
   "id": "90ac9aa4",
   "metadata": {},
   "outputs": [],
   "source": [
    "#split 0.2 test, train 0.8\n",
    "df_train, df_test = train_test_split(data, test_size=0.20, random_state=12345)"
   ]
  },
  {
   "cell_type": "code",
   "execution_count": 7,
   "id": "ae6c353b",
   "metadata": {},
   "outputs": [],
   "source": [
    "#df_vaild - 0.25 from 0.8 is 0.2 from total, adn the 0.75 from 0.8 is 0.6- 1:1:3\n",
    "df_train_2, df_valid = train_test_split(df_train, test_size=0.25, random_state=12345)"
   ]
  },
  {
   "cell_type": "markdown",
   "id": "d1f675f7",
   "metadata": {},
   "source": [
    "<div style=\"border:solid black 2px; padding: 20px\"> <b>Note:</b><br>\n",
    "3 datasets\n",
    "\n",
    "* df_train_2\n",
    "* df_valid\n",
    "* df_test"
   ]
  },
  {
   "cell_type": "code",
   "execution_count": 8,
   "id": "2dc6e48b",
   "metadata": {},
   "outputs": [
    {
     "data": {
      "text/plain": [
       "(1928, 5)"
      ]
     },
     "execution_count": 8,
     "metadata": {},
     "output_type": "execute_result"
    }
   ],
   "source": [
    "#checking the shape of the data set\n",
    "df_train_2.shape"
   ]
  },
  {
   "cell_type": "code",
   "execution_count": 9,
   "id": "7fa3068b",
   "metadata": {},
   "outputs": [
    {
     "data": {
      "text/plain": [
       "(643, 5)"
      ]
     },
     "execution_count": 9,
     "metadata": {},
     "output_type": "execute_result"
    }
   ],
   "source": [
    "#checking the shape of the data set\n",
    "df_valid.shape"
   ]
  },
  {
   "cell_type": "code",
   "execution_count": 10,
   "id": "04c6a251",
   "metadata": {},
   "outputs": [
    {
     "data": {
      "text/plain": [
       "(643, 5)"
      ]
     },
     "execution_count": 10,
     "metadata": {},
     "output_type": "execute_result"
    }
   ],
   "source": [
    "#checking the shape of the data set\n",
    "df_test.shape"
   ]
  },
  {
   "cell_type": "markdown",
   "id": "6c6ddc6e",
   "metadata": {},
   "source": [
    "<div style=\"border:solid black 2px; padding: 20px\"> <b>models for classification:</b><br>\n",
    "there are two models for classification that I'll check\n",
    "\n",
    "* RandomForestClassifier\n",
    "* DecisionTreeClassifier \n",
    "* Logistic Regression"
   ]
  },
  {
   "cell_type": "code",
   "execution_count": 11,
   "id": "4d0006ad",
   "metadata": {},
   "outputs": [],
   "source": [
    "#preparing data for the classification models \n",
    "#iloc[row slicing, column slicing]\n",
    "#training set\n",
    "train_features = df_train_2.iloc[:, 0:4]\n",
    "train_target = df_train_2['is_ultra']"
   ]
  },
  {
   "cell_type": "code",
   "execution_count": 12,
   "id": "967b4a10",
   "metadata": {},
   "outputs": [],
   "source": [
    "#validation set\n",
    "valid_features = df_valid.iloc[:, 0:4]\n",
    "valid_target = df_valid['is_ultra']"
   ]
  },
  {
   "cell_type": "code",
   "execution_count": 25,
   "id": "397e603b",
   "metadata": {},
   "outputs": [
    {
     "name": "stdout",
     "output_type": "stream",
     "text": [
      "max_depth = 1 : 0.7387247278382582\n",
      "max_depth = 2 : 0.7573872472783826\n",
      "max_depth = 3 : 0.7651632970451011\n",
      "max_depth = 4 : 0.7636080870917574\n",
      "max_depth = 5 : 0.7589424572317263\n",
      "max_depth = 6 : 0.7573872472783826\n",
      "max_depth = 7 : 0.7744945567651633\n",
      "max_depth = 8 : 0.7667185069984448\n",
      "max_depth = 9 : 0.7620528771384136\n",
      "max_depth = 10 : 0.7713841368584758\n"
     ]
    }
   ],
   "source": [
    "#iterating through the DecisionTreeClassifier model while changing the max depth and \n",
    "#checking it for overfitting and its accuracy  - sanity check.\n",
    "for i in range(1,11):\n",
    "    #set DecisionTreeClassifier paremeters\n",
    "    model = DecisionTreeClassifier(random_state=12345,max_depth=i)\n",
    "    # < train the model with training data set>\n",
    "    model.fit(train_features, train_target)\n",
    "    #validation of the data\n",
    "    predictions_valid = model.predict(valid_features)\n",
    "    print(\"max_depth =\", i, \": \", end='')\n",
    "    print(accuracy_score(valid_target, predictions_valid)) \n"
   ]
  },
  {
   "cell_type": "code",
   "execution_count": 26,
   "id": "a0147166",
   "metadata": {},
   "outputs": [
    {
     "name": "stdout",
     "output_type": "stream",
     "text": [
      "n_estimators = 1 : 0.702954898911353\n",
      "n_estimators = 2 : 0.7573872472783826\n",
      "n_estimators = 3 : 0.744945567651633\n",
      "n_estimators = 4 : 0.7651632970451011\n",
      "n_estimators = 5 : 0.7620528771384136\n",
      "n_estimators = 6 : 0.7698289269051322\n",
      "n_estimators = 7 : 0.7713841368584758\n",
      "n_estimators = 8 : 0.7869362363919129\n",
      "n_estimators = 9 : 0.7838258164852255\n",
      "n_estimators = 10 : 0.7884914463452566\n"
     ]
    }
   ],
   "source": [
    "#iterating through the RandomForestClassifier model while changing the n_estimators \n",
    "#and checking it for overfitting and its accuracy - sanity check.\n",
    "for i in range(1,11):\n",
    "    #set RandomForestClassifier paremeters\n",
    "    model = RandomForestClassifier(random_state=12345,n_estimators=i)\n",
    "    # < train the model with training data set>\n",
    "    model.fit(train_features, train_target)\n",
    "    #validation of the data\n",
    "    predictions_valid = model.predict(valid_features)\n",
    "    print(\"n_estimators =\", i, \": \", end='')\n",
    "    print(accuracy_score(valid_target, predictions_valid)) "
   ]
  },
  {
   "cell_type": "code",
   "execution_count": 27,
   "id": "91aab733",
   "metadata": {},
   "outputs": [
    {
     "name": "stdout",
     "output_type": "stream",
     "text": [
      "0.6967340590979783\n"
     ]
    }
   ],
   "source": [
    "model = LogisticRegression(random_state=12345, solver='liblinear')\n",
    "model.fit(train_features, train_target)\n",
    "predictions_valid = model.predict(valid_features)\n",
    "print(accuracy_score(valid_target, predictions_valid)) "
   ]
  },
  {
   "cell_type": "markdown",
   "id": "fffcaf4c",
   "metadata": {},
   "source": [
    "<div style=\"border:solid black 2px; padding: 20px\"> <b>Note:</b>\n",
    "It seems that is the RandomForestClassifier model is more fitting for the question. The parameters: random_state=12345 and n_estimators=10 give an accuracy of ~ 0.788 after training the model and checking it with the validation dataset"
   ]
  },
  {
   "cell_type": "markdown",
   "id": "333d24bd",
   "metadata": {},
   "source": [
    "## Check the quality of the model using the test set <a class=\"anchor\" id=\"test\"></a>"
   ]
  },
  {
   "cell_type": "code",
   "execution_count": 23,
   "id": "841730b2",
   "metadata": {},
   "outputs": [],
   "source": [
    "#preparing the data of the test set\n",
    "test_features = df_test.iloc[:, 0:4]\n",
    "test_target = df_test['is_ultra']"
   ]
  },
  {
   "cell_type": "code",
   "execution_count": 28,
   "id": "4707442e",
   "metadata": {},
   "outputs": [
    {
     "name": "stdout",
     "output_type": "stream",
     "text": [
      "accuracy_score: 0.7822706065318819\n"
     ]
    }
   ],
   "source": [
    "#using the RandomForestClassifier with random_state=12345,n_estimators=11\n",
    "model = RandomForestClassifier(random_state=12345,n_estimators=11)\n",
    "model.fit(train_features, train_target)\n",
    "predictions_test = model.predict(test_features)\n",
    "print(\"accuracy_score:\",accuracy_score(test_target, predictions_test)) "
   ]
  },
  {
   "cell_type": "markdown",
   "id": "bd7158e9",
   "metadata": {},
   "source": [
    "<div style=\"border:solid black 2px; padding: 20px\"> <b>Note:</b><br>\n",
    "After checking the models with the test data set it seems that my previous assumption was wrong and the DecisionTreeClassifier model is with the parameters: random_state=12345 and max_depth=3, is the more fitting model. "
   ]
  },
  {
   "cell_type": "markdown",
   "id": "effb6ce8",
   "metadata": {},
   "source": [
    "## conclusion <a class=\"anchor\" id=\"conclusion\">"
   ]
  },
  {
   "cell_type": "markdown",
   "id": "476e222a",
   "metadata": {},
   "source": [
    "A random forest has the highest accuracy because it uses an ensemble of trees instead of just one.\n",
    "The runner-up is logistic regression. The model is straightforward so there will be no overfitting.\n",
    "The decision tree has the lowest quality of prediction. \n",
    "The model I choose would analyze subscribers' behavior and recommend one of Megaline's newer plans: Smart or Ultra is RandomForestClassifier. The parameters: random_state=12345 and n_estimators=10 to go above 0.75 accuracy to an accuracy of 0.788."
   ]
  }
 ],
 "metadata": {
  "ExecuteTimeLog": [
   {
    "duration": 1501,
    "start_time": "2022-03-07T20:53:17.598Z"
   },
   {
    "duration": 143,
    "start_time": "2022-03-07T20:53:55.673Z"
   },
   {
    "duration": 326,
    "start_time": "2022-03-07T20:53:57.795Z"
   },
   {
    "duration": 164,
    "start_time": "2022-03-07T20:54:58.446Z"
   },
   {
    "duration": 141,
    "start_time": "2022-03-07T20:56:20.458Z"
   },
   {
    "duration": 1757,
    "start_time": "2022-03-07T20:56:30.393Z"
   },
   {
    "duration": 13,
    "start_time": "2022-03-07T21:41:00.746Z"
   },
   {
    "duration": 1583,
    "start_time": "2022-03-07T21:41:09.856Z"
   },
   {
    "duration": 13,
    "start_time": "2022-03-07T21:41:14.132Z"
   },
   {
    "duration": 8,
    "start_time": "2022-03-07T21:41:14.824Z"
   },
   {
    "duration": 18,
    "start_time": "2022-03-07T21:41:25.305Z"
   },
   {
    "duration": 8,
    "start_time": "2022-03-07T21:41:26.361Z"
   },
   {
    "duration": 6,
    "start_time": "2022-03-07T21:41:31.406Z"
   },
   {
    "duration": 5,
    "start_time": "2022-03-07T21:41:32.325Z"
   },
   {
    "duration": 5,
    "start_time": "2022-03-07T21:41:34.477Z"
   },
   {
    "duration": 4,
    "start_time": "2022-03-07T21:41:35.253Z"
   },
   {
    "duration": 4,
    "start_time": "2022-03-07T21:41:36.020Z"
   },
   {
    "duration": 4,
    "start_time": "2022-03-07T21:42:02.833Z"
   },
   {
    "duration": 5,
    "start_time": "2022-03-07T21:42:04.076Z"
   },
   {
    "duration": 19,
    "start_time": "2022-03-07T21:47:17.864Z"
   },
   {
    "duration": 60,
    "start_time": "2022-03-07T21:48:35.027Z"
   },
   {
    "duration": 223,
    "start_time": "2022-03-07T21:48:37.541Z"
   },
   {
    "duration": 61,
    "start_time": "2022-03-07T21:48:49.173Z"
   },
   {
    "duration": 263,
    "start_time": "2022-03-07T21:48:51.107Z"
   },
   {
    "duration": 13,
    "start_time": "2022-03-07T21:48:53.048Z"
   },
   {
    "duration": 365,
    "start_time": "2022-03-07T21:49:15.453Z"
   },
   {
    "duration": 857,
    "start_time": "2022-03-07T21:49:23.850Z"
   },
   {
    "duration": 976,
    "start_time": "2022-03-07T21:49:35.959Z"
   },
   {
    "duration": 170,
    "start_time": "2022-03-07T21:50:04.420Z"
   },
   {
    "duration": 4,
    "start_time": "2022-03-07T21:50:31.504Z"
   },
   {
    "duration": 94,
    "start_time": "2022-03-07T21:50:45.549Z"
   },
   {
    "duration": 69,
    "start_time": "2022-03-07T21:55:41.161Z"
   },
   {
    "duration": 266,
    "start_time": "2022-03-07T21:55:42.113Z"
   },
   {
    "duration": 12,
    "start_time": "2022-03-07T21:55:43.414Z"
   },
   {
    "duration": 50,
    "start_time": "2022-03-07T21:55:55.109Z"
   }
  ],
  "kernelspec": {
   "display_name": "Python 3 (ipykernel)",
   "language": "python",
   "name": "python3"
  },
  "language_info": {
   "codemirror_mode": {
    "name": "ipython",
    "version": 3
   },
   "file_extension": ".py",
   "mimetype": "text/x-python",
   "name": "python",
   "nbconvert_exporter": "python",
   "pygments_lexer": "ipython3",
   "version": "3.9.5"
  },
  "toc": {
   "base_numbering": 1,
   "nav_menu": {},
   "number_sections": true,
   "sideBar": true,
   "skip_h1_title": true,
   "title_cell": "Table of Contents",
   "title_sidebar": "Contents",
   "toc_cell": false,
   "toc_position": {},
   "toc_section_display": true,
   "toc_window_display": false
  }
 },
 "nbformat": 4,
 "nbformat_minor": 5
}
